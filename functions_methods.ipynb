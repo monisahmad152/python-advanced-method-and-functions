{
  "nbformat": 4,
  "nbformat_minor": 0,
  "metadata": {
    "colab": {
      "provenance": [],
      "name": "functions-methods.ipynb",
      "include_colab_link": true
    },
    "kernelspec": {
      "display_name": "Python 3",
      "language": "python",
      "name": "python3"
    },
    "language_info": {
      "codemirror_mode": {
        "name": "ipython",
        "version": 3
      },
      "file_extension": ".py",
      "mimetype": "text/x-python",
      "name": "python",
      "nbconvert_exporter": "python",
      "pygments_lexer": "ipython3",
      "version": "3.7.3"
    }
  },
  "cells": [
    {
      "cell_type": "markdown",
      "metadata": {
        "id": "view-in-github",
        "colab_type": "text"
      },
      "source": [
        "<a href=\"https://colab.research.google.com/github/monisahmad152/python-advanced-method-and-functions/blob/main/functions_methods.ipynb\" target=\"_parent\"><img src=\"https://colab.research.google.com/assets/colab-badge.svg\" alt=\"Open In Colab\"/></a>"
      ]
    },
    {
      "cell_type": "markdown",
      "metadata": {
        "id": "if7mXXYjlI5a"
      },
      "source": [
        "# Functions\n",
        "\n",
        "Functions will be one of our main building blocks when we construct larger and larger amounts of code to solve problems.\n",
        "\n",
        "**So what is a function?**\n",
        "\n",
        "Formally, a function is a useful device that groups together a set of statements so they can be run more than once. They can also let us specify parameters that can serve as inputs to the functions.\n",
        "\n",
        "On a more fundamental level, functions allow us to not have to repeatedly write the same code again and again. If you remember back to the lessons on strings and lists, remember that we used a function <code>len()</code> to get the length of a string. Since checking the length of a sequence is a common task you would want to write a function that can do this repeatedly at command.\n",
        "\n",
        "Functions will be one of the most basic levels of **reusing code in Python**."
      ]
    },
    {
      "cell_type": "markdown",
      "metadata": {
        "id": "LQDR0mzFlI5f"
      },
      "source": [
        "## <code>def</code> Statements\n",
        "\n",
        "Let's see how to build out a function's syntax in Python. It has the following form:"
      ]
    },
    {
      "cell_type": "code",
      "metadata": {
        "id": "-DGjmGZNlI5k"
      },
      "source": [
        "def example_function(arg1, arg2):\n",
        "  '''\n",
        "  This is where the function's Document String (docstring) goes\n",
        "  '''\n",
        "  # Do stuff here\n",
        "  return desired_result"
      ],
      "execution_count": null,
      "outputs": []
    },
    {
      "cell_type": "markdown",
      "metadata": {
        "id": "q8gKQsbFlI53"
      },
      "source": [
        "* We begin with <code>def</code> then a space followed by the name of the function. Try to keep names relevant, for example <code>len()</code> is a good name for a <code>length()</code> function. Also be careful with names, you wouldn't want to call a function the same name as a [built-in function in Python](https://docs.python.org/2/library/functions.html) (such as len).\n",
        "\n",
        "* Next come a pair of parentheses with a number of arguments separated by a comma. These arguments are the inputs for your function. You'll be able to use these inputs in your function and reference them. After this you put a colon.\n",
        "\n",
        "* Now here is the important step, you must indent to begin the code inside your function correctly. Python makes use of *whitespace* to organize code. Lots of other programing languages do not do this, so keep that in mind.\n",
        "\n",
        "* Next you'll see the docstring, this is where you write a basic description of the function. Using iPython and iPython Notebooks, you'll be able to read these docstrings by pressing Shift+Tab after a function name. Docstrings are not necessary for simple functions, but it's good practice to put them in so you or other people can easily understand the code you write.\n",
        "\n",
        "After all this you begin writing the code you wish to execute.\n",
        "\n",
        "* The best way to learn functions is by going through examples. So let's try to go through examples that relate back to the various objects and data structures we learned about before.\n",
        "\n",
        "* <code>return</code> allows a function to *return* a result that can then be stored as a variable, or used in whatever manner a user wants."
      ]
    },
    {
      "cell_type": "markdown",
      "metadata": {
        "id": "AZAGdrxAlI57"
      },
      "source": [
        "## <u>Example 1</u>: Extract a list of first letters from a sentence"
      ]
    },
    {
      "cell_type": "code",
      "metadata": {
        "id": "T6Lkq4wdG-e6"
      },
      "source": [
        "heisenberg_quote = \"It ceases to exist without me. No, you clearly don't know who you're talking to, so let me clue you in. I am not in danger, Skyler. I am the danger.\""
      ],
      "execution_count": null,
      "outputs": []
    },
    {
      "cell_type": "code",
      "metadata": {
        "id": "FbCx1-iyHCRK",
        "colab": {
          "base_uri": "https://localhost:8080/"
        },
        "outputId": "c3273cbe-9e3a-491b-ccad-0c5fe26de7a2"
      },
      "source": [
        "# Using the list comprehension, we can do the above task in this way\n",
        "words_by_walter = heisenberg_quote.split(' ')\n",
        "\n",
        "first_letters = [word[0] for word in words_by_walter]\n",
        "print(first_letters)"
      ],
      "execution_count": null,
      "outputs": [
        {
          "output_type": "stream",
          "name": "stdout",
          "text": [
            "['I', 'c', 't', 'e', 'w', 'm', 'N', 'y', 'c', 'd', 'k', 'w', 'y', 't', 't', 's', 'l', 'm', 'c', 'y', 'i', 'I', 'a', 'n', 'i', 'd', 'S', 'I', 'a', 't', 'd']\n"
          ]
        }
      ]
    },
    {
      "cell_type": "markdown",
      "metadata": {
        "id": "dpRy4h7mHNW3"
      },
      "source": [
        "## Now let us write a function which does the same task for any given sentence"
      ]
    },
    {
      "cell_type": "code",
      "metadata": {
        "id": "ezItgG0SlI5_"
      },
      "source": [
        "def extract_first_letters(sentence):\n",
        "  '''\n",
        "  This function takes a sentence as an input and returns \n",
        "  the list of first letters of each word\n",
        "  '''\n",
        "  \n",
        "  # Step 1 : Get the list of words in this sentence\n",
        "  words_in_sentence = sentence.split(' ') \n",
        "\n",
        "  # Step 2: Write a list comprehension to extract the first letters\n",
        "  first_letters = [word[0] for word in words_in_sentence]\n",
        "\n",
        "  # Step 3: Return the output list first_letters  \n",
        "  return first_letters"
      ],
      "execution_count": null,
      "outputs": []
    },
    {
      "cell_type": "code",
      "metadata": {
        "id": "izVY5GousbYm",
        "colab": {
          "base_uri": "https://localhost:8080/"
        },
        "outputId": "7f1b60e5-6dba-4e47-db8a-dc8ca340ba5e"
      },
      "source": [
        "print(extract_first_letters(heisenberg_quote))"
      ],
      "execution_count": null,
      "outputs": [
        {
          "output_type": "stream",
          "name": "stdout",
          "text": [
            "['I', 'c', 't', 'e', 'w', 'm', 'N', 'y', 'c', 'd', 'k', 'w', 'y', 't', 't', 's', 'l', 'm', 'c', 'y', 'i', 'I', 'a', 'n', 'i', 'd', 'S', 'I', 'a', 't', 'd']\n"
          ]
        }
      ]
    },
    {
      "cell_type": "code",
      "source": [
        "temp = 'Monis Ahmad'\n",
        "extract_first_letters(temp)"
      ],
      "metadata": {
        "colab": {
          "base_uri": "https://localhost:8080/"
        },
        "id": "28EIHUvSolIA",
        "outputId": "209ba3ef-83d2-4790-c796-adc2f20be073"
      },
      "execution_count": null,
      "outputs": [
        {
          "output_type": "execute_result",
          "data": {
            "text/plain": [
              "['M', 'A']"
            ]
          },
          "metadata": {},
          "execution_count": 27
        }
      ]
    },
    {
      "cell_type": "code",
      "source": [
        "def extract_first_letters(sentence):\n",
        "  print(sentence)\n",
        "  '''\n",
        "  This function takes a sentence as an input and returns \n",
        "  the list of first letters of each word\n",
        "  '''\n",
        "  \n",
        "  # Step 1 : Get the list of words in this sentence\n",
        "  words_in_sentence = sentence.split(' ') \n",
        "  print(words_in_sentence)\n",
        "\n",
        "  # Step 2: Write a list comprehension to extract the first letters\n",
        "  first_letters = [word[0] for word in words_in_sentence]\n",
        "  print(first_letters)\n",
        "\n",
        "  # Step 3: Return the output list first_letters  \n",
        "  return first_letters"
      ],
      "metadata": {
        "id": "dpsrXXKQl4Ls"
      },
      "execution_count": null,
      "outputs": []
    },
    {
      "cell_type": "code",
      "source": [
        "print(extract_first_letters(heisenberg_quote))"
      ],
      "metadata": {
        "colab": {
          "base_uri": "https://localhost:8080/"
        },
        "id": "-fmZcSvYmjsY",
        "outputId": "cb024c1b-cb0a-40f5-9988-eefeff20f53c"
      },
      "execution_count": null,
      "outputs": [
        {
          "output_type": "stream",
          "name": "stdout",
          "text": [
            "It ceases to exist without me. No, you clearly don't know who you're talking to, so let me clue you in. I am not in danger, Skyler. I am the danger.\n",
            "['It', 'ceases', 'to', 'exist', 'without', 'me.', 'No,', 'you', 'clearly', \"don't\", 'know', 'who', \"you're\", 'talking', 'to,', 'so', 'let', 'me', 'clue', 'you', 'in.', 'I', 'am', 'not', 'in', 'danger,', 'Skyler.', 'I', 'am', 'the', 'danger.']\n",
            "['I', 'c', 't', 'e', 'w', 'm', 'N', 'y', 'c', 'd', 'k', 'w', 'y', 't', 't', 's', 'l', 'm', 'c', 'y', 'i', 'I', 'a', 'n', 'i', 'd', 'S', 'I', 'a', 't', 'd']\n",
            "['I', 'c', 't', 'e', 'w', 'm', 'N', 'y', 'c', 'd', 'k', 'w', 'y', 't', 't', 's', 'l', 'm', 'c', 'y', 'i', 'I', 'a', 'n', 'i', 'd', 'S', 'I', 'a', 't', 'd']\n"
          ]
        }
      ]
    },
    {
      "cell_type": "code",
      "source": [
        "extract_first_letters('Monis Ahmad')"
      ],
      "metadata": {
        "colab": {
          "base_uri": "https://localhost:8080/"
        },
        "id": "P5lcwO0yoA6A",
        "outputId": "3d4bc7a9-c3cb-4be5-fe1d-f966e12e8e46"
      },
      "execution_count": null,
      "outputs": [
        {
          "output_type": "stream",
          "name": "stdout",
          "text": [
            "Monis Ahmad\n",
            "['Monis', 'Ahmad']\n",
            "['M', 'A']\n"
          ]
        },
        {
          "output_type": "execute_result",
          "data": {
            "text/plain": [
              "['M', 'A']"
            ]
          },
          "metadata": {},
          "execution_count": 20
        }
      ]
    },
    {
      "cell_type": "code",
      "source": [
        "temp = 'Monis Ahmad'\n",
        "extract_first_letters(temp)"
      ],
      "metadata": {
        "colab": {
          "base_uri": "https://localhost:8080/"
        },
        "id": "HnRpAZhEoUIO",
        "outputId": "beffb040-005f-4068-9c62-18711248d6c1"
      },
      "execution_count": null,
      "outputs": [
        {
          "output_type": "stream",
          "name": "stdout",
          "text": [
            "Monis Ahmad\n",
            "['Monis', 'Ahmad']\n",
            "['M', 'A']\n"
          ]
        },
        {
          "output_type": "execute_result",
          "data": {
            "text/plain": [
              "['M', 'A']"
            ]
          },
          "metadata": {},
          "execution_count": 21
        }
      ]
    },
    {
      "cell_type": "code",
      "metadata": {
        "id": "j-OcB5lBs0K_",
        "colab": {
          "base_uri": "https://localhost:8080/"
        },
        "outputId": "9c9bc455-c1d9-4c6f-d1ea-ebb25f2b5aed"
      },
      "source": [
        "starwars_quote = \"May the Force be with you.\"\n",
        "print(extract_first_letters(starwars_quote))\n"
      ],
      "execution_count": null,
      "outputs": [
        {
          "output_type": "stream",
          "name": "stdout",
          "text": [
            "May the Force be with you.\n",
            "['May', 'the', 'Force', 'be', 'with', 'you.']\n",
            "['M', 't', 'F', 'b', 'w', 'y']\n",
            "['M', 't', 'F', 'b', 'w', 'y']\n"
          ]
        }
      ]
    },
    {
      "cell_type": "code",
      "metadata": {
        "id": "zEUax4SXlI6g",
        "colab": {
          "base_uri": "https://localhost:8080/"
        },
        "outputId": "9efb36be-2799-4188-c066-483ab6ea59ad"
      },
      "source": [
        "# Store the result of the function in another variable\n",
        "first_letters_heisenberg = extract_first_letters(heisenberg_quote)\n",
        "print(first_letters_heisenberg)"
      ],
      "execution_count": null,
      "outputs": [
        {
          "output_type": "stream",
          "name": "stdout",
          "text": [
            "It ceases to exist without me. No, you clearly don't know who you're talking to, so let me clue you in. I am not in danger, Skyler. I am the danger.\n",
            "['It', 'ceases', 'to', 'exist', 'without', 'me.', 'No,', 'you', 'clearly', \"don't\", 'know', 'who', \"you're\", 'talking', 'to,', 'so', 'let', 'me', 'clue', 'you', 'in.', 'I', 'am', 'not', 'in', 'danger,', 'Skyler.', 'I', 'am', 'the', 'danger.']\n",
            "['I', 'c', 't', 'e', 'w', 'm', 'N', 'y', 'c', 'd', 'k', 'w', 'y', 't', 't', 's', 'l', 'm', 'c', 'y', 'i', 'I', 'a', 'n', 'i', 'd', 'S', 'I', 'a', 't', 'd']\n",
            "['I', 'c', 't', 'e', 'w', 'm', 'N', 'y', 'c', 'd', 'k', 'w', 'y', 't', 't', 's', 'l', 'm', 'c', 'y', 'i', 'I', 'a', 'n', 'i', 'd', 'S', 'I', 'a', 't', 'd']\n"
          ]
        }
      ]
    },
    {
      "cell_type": "markdown",
      "metadata": {
        "id": "N2fXw7UkJLSs"
      },
      "source": [
        "### Let us test this function on another sentence"
      ]
    },
    {
      "cell_type": "code",
      "metadata": {
        "id": "19mdKl4llI6z",
        "colab": {
          "base_uri": "https://localhost:8080/"
        },
        "outputId": "da96450b-a6a8-4c74-adeb-4517a892f06f"
      },
      "source": [
        "starwars_quote = \"May the Force be with you.\"\n",
        "first_letters_starwars = extract_first_letters(starwars_quote)\n",
        "print(first_letters_starwars)"
      ],
      "execution_count": null,
      "outputs": [
        {
          "output_type": "stream",
          "name": "stdout",
          "text": [
            "May the Force be with you.\n",
            "['May', 'the', 'Force', 'be', 'with', 'you.']\n",
            "['M', 't', 'F', 'b', 'w', 'y']\n",
            "['M', 't', 'F', 'b', 'w', 'y']\n"
          ]
        }
      ]
    },
    {
      "cell_type": "markdown",
      "metadata": {
        "id": "8gBuN364lI7i"
      },
      "source": [
        "## <u> Example 2</u> : Let us now write a function which returns the factorial of a number. \n",
        "\n",
        "### In mathematics, the factorial of a positive integer $n$, denoted by $n!$, is the product of all positive integers less than or equal to $n$"
      ]
    },
    {
      "cell_type": "code",
      "metadata": {
        "id": "df64eHtllI7o"
      },
      "source": [
        "def factorial(num):\n",
        "    '''\n",
        "    Function for calculating factorial of a number\n",
        "    '''\n",
        "\n",
        "    # Step 1 : Write an if  statement to print a message if the input number is negative\n",
        "    if num < 0:\n",
        "      print(\"Factorial is not defined for negative numbers.\")\n",
        "\n",
        "    # Step 2: Write the elif statement to calculate the factorial\n",
        "    elif num > 0:\n",
        "      result = 1\n",
        "      for i in range(1, num+1):\n",
        "        result = result * i\n",
        "      # print(f\"The factorial of {num} is {result}.\")\n",
        "    \n",
        "    # Step 3: Write the else statement to take care of the input 0\n",
        "    else:\n",
        "      print(\"The factorial of 0 is 1.\")\n",
        "\n",
        "    # Step 4 : Return the output variable result\n",
        "\n",
        "    return result"
      ],
      "execution_count": null,
      "outputs": []
    },
    {
      "cell_type": "code",
      "metadata": {
        "id": "3_zNpjLR-zcF",
        "colab": {
          "base_uri": "https://localhost:8080/"
        },
        "outputId": "25afb638-8ee7-4bd2-aff1-2f326ea8cd49"
      },
      "source": [
        "fact_seven = factorial(10)\n",
        "print(fact_seven)"
      ],
      "execution_count": null,
      "outputs": [
        {
          "output_type": "stream",
          "name": "stdout",
          "text": [
            "3628800\n"
          ]
        }
      ]
    },
    {
      "cell_type": "code",
      "source": [
        "fact_seven = factorial(-5)\n",
        "print(fact_seven)"
      ],
      "metadata": {
        "colab": {
          "base_uri": "https://localhost:8080/",
          "height": 287
        },
        "id": "iEbqFeL7sRmX",
        "outputId": "70f637bd-9957-4055-fbcf-422d8541106d"
      },
      "execution_count": null,
      "outputs": [
        {
          "output_type": "stream",
          "name": "stdout",
          "text": [
            "Factorial is not defined for negative numbers.\n"
          ]
        },
        {
          "output_type": "error",
          "ename": "UnboundLocalError",
          "evalue": "ignored",
          "traceback": [
            "\u001b[0;31m---------------------------------------------------------------------------\u001b[0m",
            "\u001b[0;31mUnboundLocalError\u001b[0m                         Traceback (most recent call last)",
            "\u001b[0;32m<ipython-input-43-63c9e8b5f7ff>\u001b[0m in \u001b[0;36m<module>\u001b[0;34m\u001b[0m\n\u001b[0;32m----> 1\u001b[0;31m \u001b[0mfact_seven\u001b[0m \u001b[0;34m=\u001b[0m \u001b[0mfactorial\u001b[0m\u001b[0;34m(\u001b[0m\u001b[0;34m-\u001b[0m\u001b[0;36m5\u001b[0m\u001b[0;34m)\u001b[0m\u001b[0;34m\u001b[0m\u001b[0;34m\u001b[0m\u001b[0m\n\u001b[0m\u001b[1;32m      2\u001b[0m \u001b[0mprint\u001b[0m\u001b[0;34m(\u001b[0m\u001b[0mfact_seven\u001b[0m\u001b[0;34m)\u001b[0m\u001b[0;34m\u001b[0m\u001b[0;34m\u001b[0m\u001b[0m\n",
            "\u001b[0;32m<ipython-input-36-994ab9caa40a>\u001b[0m in \u001b[0;36mfactorial\u001b[0;34m(num)\u001b[0m\n\u001b[1;32m     21\u001b[0m     \u001b[0;31m# Step 4 : Return the output variable result\u001b[0m\u001b[0;34m\u001b[0m\u001b[0;34m\u001b[0m\u001b[0m\n\u001b[1;32m     22\u001b[0m \u001b[0;34m\u001b[0m\u001b[0m\n\u001b[0;32m---> 23\u001b[0;31m     \u001b[0;32mreturn\u001b[0m \u001b[0mresult\u001b[0m\u001b[0;34m\u001b[0m\u001b[0;34m\u001b[0m\u001b[0m\n\u001b[0m",
            "\u001b[0;31mUnboundLocalError\u001b[0m: local variable 'result' referenced before assignment"
          ]
        }
      ]
    },
    {
      "cell_type": "code",
      "source": [
        "def factorial(num):\n",
        "    '''\n",
        "    Function for calculating factorial of a number\n",
        "    '''\n",
        "\n",
        "    # Step 1 : Write an if  statement to print a message if the input number is negative\n",
        "    if num < 0:\n",
        "      result = \"Factorial is not defined for negative numbers.\"\n",
        "\n",
        "    # Step 2: Write the elif statement to calculate the factorial\n",
        "    elif num > 0:\n",
        "      result = 1\n",
        "      for i in range(1, num+1):\n",
        "        result = result * i\n",
        "      # print(f\"The factorial of {num} is {result}.\")\n",
        "    \n",
        "    # Step 3: Write the else statement to take care of the input 0\n",
        "    else:\n",
        "      print(\"The factorial of 0 is 1.\")\n",
        "\n",
        "    # Step 4 : Return the output variable result\n",
        "\n",
        "    return result"
      ],
      "metadata": {
        "id": "GvdbvFTusXIH"
      },
      "execution_count": null,
      "outputs": []
    },
    {
      "cell_type": "code",
      "source": [
        "fact_seven = factorial(-5)\n",
        "print(fact_seven)"
      ],
      "metadata": {
        "colab": {
          "base_uri": "https://localhost:8080/"
        },
        "id": "pwdxRdvLs3FM",
        "outputId": "1f1ef5d5-d8e3-4b58-be40-6d34517edb8a"
      },
      "execution_count": null,
      "outputs": [
        {
          "output_type": "stream",
          "name": "stdout",
          "text": [
            "Factorial is not defined for negative numbers.\n"
          ]
        }
      ]
    },
    {
      "cell_type": "code",
      "source": [
        "fact_seven = factorial(0)\n",
        "print(fact_seven)"
      ],
      "metadata": {
        "colab": {
          "base_uri": "https://localhost:8080/",
          "height": 287
        },
        "id": "b-cemdwbtApM",
        "outputId": "e73cf70a-65ac-4623-d606-295a060e8d55"
      },
      "execution_count": null,
      "outputs": [
        {
          "output_type": "stream",
          "name": "stdout",
          "text": [
            "The factorial of 0 is 1.\n"
          ]
        },
        {
          "output_type": "error",
          "ename": "UnboundLocalError",
          "evalue": "ignored",
          "traceback": [
            "\u001b[0;31m---------------------------------------------------------------------------\u001b[0m",
            "\u001b[0;31mUnboundLocalError\u001b[0m                         Traceback (most recent call last)",
            "\u001b[0;32m<ipython-input-46-1fca4fe37281>\u001b[0m in \u001b[0;36m<module>\u001b[0;34m\u001b[0m\n\u001b[0;32m----> 1\u001b[0;31m \u001b[0mfact_seven\u001b[0m \u001b[0;34m=\u001b[0m \u001b[0mfactorial\u001b[0m\u001b[0;34m(\u001b[0m\u001b[0;36m0\u001b[0m\u001b[0;34m)\u001b[0m\u001b[0;34m\u001b[0m\u001b[0;34m\u001b[0m\u001b[0m\n\u001b[0m\u001b[1;32m      2\u001b[0m \u001b[0mprint\u001b[0m\u001b[0;34m(\u001b[0m\u001b[0mfact_seven\u001b[0m\u001b[0;34m)\u001b[0m\u001b[0;34m\u001b[0m\u001b[0;34m\u001b[0m\u001b[0m\n",
            "\u001b[0;32m<ipython-input-44-b357577ba113>\u001b[0m in \u001b[0;36mfactorial\u001b[0;34m(num)\u001b[0m\n\u001b[1;32m     21\u001b[0m     \u001b[0;31m# Step 4 : Return the output variable result\u001b[0m\u001b[0;34m\u001b[0m\u001b[0;34m\u001b[0m\u001b[0m\n\u001b[1;32m     22\u001b[0m \u001b[0;34m\u001b[0m\u001b[0m\n\u001b[0;32m---> 23\u001b[0;31m     \u001b[0;32mreturn\u001b[0m \u001b[0mresult\u001b[0m\u001b[0;34m\u001b[0m\u001b[0;34m\u001b[0m\u001b[0m\n\u001b[0m",
            "\u001b[0;31mUnboundLocalError\u001b[0m: local variable 'result' referenced before assignment"
          ]
        }
      ]
    },
    {
      "cell_type": "code",
      "source": [
        "def factorial(num):\n",
        "    '''\n",
        "    Function for calculating factorial of a number\n",
        "    '''\n",
        "\n",
        "    # Step 1 : Write an if  statement to print a message if the input number is negative\n",
        "    if num < 0:\n",
        "      result = \"Factorial is not defined for negative numbers.\"\n",
        "\n",
        "    # Step 2: Write the elif statement to calculate the factorial\n",
        "    elif num > 0:\n",
        "      result = 1\n",
        "      for i in range(1, num+1):\n",
        "        result = result * i\n",
        "      # print(f\"The factorial of {num} is {result}.\")\n",
        "    \n",
        "    # Step 3: Write the else statement to take care of the input 0\n",
        "    else:\n",
        "      result = \"The factorial of 0 is 1.\"\n",
        "\n",
        "    # Step 4 : Return the output variable result\n",
        "\n",
        "    return result"
      ],
      "metadata": {
        "id": "hxKjSxYbtKs8"
      },
      "execution_count": null,
      "outputs": []
    },
    {
      "cell_type": "code",
      "source": [
        "fact_seven = factorial(0)\n",
        "print(fact_seven)"
      ],
      "metadata": {
        "colab": {
          "base_uri": "https://localhost:8080/"
        },
        "id": "CNt--mV9tUzE",
        "outputId": "ced44381-aba6-404d-9af0-0c8a351586a5"
      },
      "execution_count": null,
      "outputs": [
        {
          "output_type": "stream",
          "name": "stdout",
          "text": [
            "The factorial of 0 is 1.\n"
          ]
        }
      ]
    },
    {
      "cell_type": "code",
      "source": [],
      "metadata": {
        "id": "0ovHJKkytS9t"
      },
      "execution_count": null,
      "outputs": []
    },
    {
      "cell_type": "code",
      "metadata": {
        "id": "AemuztG4lI75",
        "colab": {
          "base_uri": "https://localhost:8080/"
        },
        "outputId": "5a080be5-a8a8-4343-ad0a-5f54d27d5430"
      },
      "source": [
        "# Now let us define a list of numbers for which we want to calculate the factorials\n",
        "list_of_numbers = [3, 5, 8, 12, 4, 6]\n",
        "\n",
        "# We can write a list comprehension for the same task\n",
        "factorial_list = [factorial(number) for number in list_of_numbers if number%2!=0]\n",
        "print(factorial_list)"
      ],
      "execution_count": null,
      "outputs": [
        {
          "output_type": "stream",
          "name": "stdout",
          "text": [
            "[6, 120]\n"
          ]
        }
      ]
    },
    {
      "cell_type": "markdown",
      "metadata": {
        "id": "k6csqQJrlI8J"
      },
      "source": [
        "##<u> Example 3</u>: Let us write a function which takes a date as a string and prints the quarter as output.\n",
        "\n",
        "### Remember it is not required that functions will return a value. This is an example of such functions\n"
      ]
    },
    {
      "cell_type": "code",
      "metadata": {
        "id": "Y8H9zJ8HlI8O"
      },
      "source": [
        "def assignQuarter(user_date):\n",
        "  '''\n",
        "  This function prints the quarter for a given date string\n",
        "  '''\n",
        "\n",
        "  # Step 1 : Extract the year and month from the input date string\n",
        "  date_year = user_date[:4]\n",
        "  date_month = user_date[5:7]\n",
        "\n",
        "  # Step 2 : Store the quarter value in a string variable named quarter\n",
        "  if (date_month >= '01') & (date_month <='03'):\n",
        "    quarter = date_year + '-Q1'\n",
        "  elif (date_month >= '04') & (date_month <='06'):\n",
        "    quarter = date_year + '-Q2'\n",
        "  elif (date_month >= '07') & (date_month <='09'):\n",
        "    quarter = date_year + '-Q3'\n",
        "  else:\n",
        "    quarter = date_year + '-Q4'\n",
        "\n",
        "  # Step 3 : Print the message you want to display to the user. Here we are not returning anything  \n",
        "  print(f'The corresponding quarter for the date {user_date} is {quarter}')\n",
        "  # return quarter"
      ],
      "execution_count": null,
      "outputs": []
    },
    {
      "cell_type": "code",
      "metadata": {
        "id": "2bUQ5FmFlI8a",
        "scrolled": false
      },
      "source": [
        "sample_date = '2020-07-01'\n",
        "date_quarter = assignQuarter(sample_date)\n",
        "print(date_quarter)"
      ],
      "execution_count": null,
      "outputs": []
    },
    {
      "cell_type": "code",
      "metadata": {
        "id": "joS3QaIlOcs6"
      },
      "source": [
        "my_quarter = assignQuarter(sample_date)"
      ],
      "execution_count": null,
      "outputs": []
    },
    {
      "cell_type": "code",
      "metadata": {
        "id": "AKXZA6UjOhAh"
      },
      "source": [
        "print(my_quarter)"
      ],
      "execution_count": null,
      "outputs": []
    },
    {
      "cell_type": "code",
      "metadata": {
        "id": "w2scRk8eO6-V"
      },
      "source": [
        "assignQuarter"
      ],
      "execution_count": null,
      "outputs": []
    },
    {
      "cell_type": "markdown",
      "metadata": {
        "id": "vLhxFqE_lI8o"
      },
      "source": [
        "##<u> Example 4 </u>: Let us write a function with multiple return statements"
      ]
    },
    {
      "cell_type": "code",
      "metadata": {
        "id": "-MvPKAGHlI8r"
      },
      "source": [
        "def check_even_or_odd(num):\n",
        "  '''\n",
        "  This function checks whether a number is odd or even and then returns the corresponding string\n",
        "  '''\n",
        "  print(f'Given number is {num}')\n",
        "  \n",
        "  # Step 1 : Check if the number is even. If it is return 'even'\n",
        "  if num%2 == 0:\n",
        "    return 'even'\n",
        "\n",
        "  # Step 2 : Else just return 'odd'\n",
        "  \n",
        "  return 'odd'"
      ],
      "execution_count": null,
      "outputs": []
    },
    {
      "cell_type": "code",
      "metadata": {
        "id": "Df7vsilOlI84"
      },
      "source": [
        "is_even_odd = check_even_or_odd(10)\n",
        "print(is_even_odd)"
      ],
      "execution_count": null,
      "outputs": []
    },
    {
      "cell_type": "markdown",
      "metadata": {
        "id": "i_jDWr_ZlI9J"
      },
      "source": [
        "## <u> Example 5</u> : Next let us write a function which returns multiple variables at once.\n",
        "\n",
        "### In this specific example, the input is a list of numbers. And we have to return the mean and median of this list of numbers"
      ]
    },
    {
      "cell_type": "code",
      "metadata": {
        "id": "kG3rgxm6ZXnp"
      },
      "source": [
        "heights =  [172,175,170,168,170,200]"
      ],
      "execution_count": null,
      "outputs": []
    },
    {
      "cell_type": "code",
      "metadata": {
        "id": "jivqK1-mlI9T"
      },
      "source": [
        "def calculate_averages(my_list):\n",
        "  '''\n",
        "  This function calculates the mean and median of a given list of numbers.\n",
        "  '''\n",
        "  # Step 1 : Calculate the mean\n",
        "  mean = sum(my_list)/len(my_list)\n",
        "\n",
        "  # Step 2 : Calculate the median\n",
        "  sorted_list = sorted(my_list)\n",
        "  list_length = len(sorted_list)\n",
        "\n",
        "  if list_length%2 == 0:\n",
        "    median = (sorted_list[int(list_length/2)-1] + sorted_list[int(list_length/2)])/2\n",
        "  else :\n",
        "    median = sorted_list[int((list_length+1)/2) - 1]\n",
        "     \n",
        "  return  mean, median"
      ],
      "execution_count": null,
      "outputs": []
    },
    {
      "cell_type": "code",
      "metadata": {
        "id": "Twu3xeb0lI97"
      },
      "source": [
        "calculate_averages(heights)"
      ],
      "execution_count": null,
      "outputs": []
    },
    {
      "cell_type": "code",
      "metadata": {
        "id": "OoOA_7PHlI-W"
      },
      "source": [
        "mean_height, median_height = calculate_averages(heights)"
      ],
      "execution_count": null,
      "outputs": []
    },
    {
      "cell_type": "code",
      "metadata": {
        "id": "x4XXJBEglI-j"
      },
      "source": [
        "mean_height"
      ],
      "execution_count": null,
      "outputs": []
    },
    {
      "cell_type": "code",
      "metadata": {
        "id": "P8N6jqmrlI-u"
      },
      "source": [
        "median_height"
      ],
      "execution_count": null,
      "outputs": []
    },
    {
      "cell_type": "markdown",
      "metadata": {
        "id": "kn2VVLuulI_e"
      },
      "source": [
        "##<u> Example 6</u>: Now let us write a function which adds an element to a list. This functions takes the list as an argument and the element to be added"
      ]
    },
    {
      "cell_type": "code",
      "metadata": {
        "id": "Bkpji_8jlI_h"
      },
      "source": [
        "def list_append(my_list, elem):\n",
        "  '''\n",
        "  This function appends an element to the list\n",
        "  '''\n",
        "  # Step 1 : Add the element to the list\n",
        "  new_list = my_list + [elem]\n",
        "\n",
        "  # Step 2 : Return the new_list  \n",
        "  return new_list"
      ],
      "execution_count": null,
      "outputs": []
    },
    {
      "cell_type": "code",
      "metadata": {
        "id": "6Eu3ZCkV4DcU"
      },
      "source": [
        "print(heights)"
      ],
      "execution_count": null,
      "outputs": []
    },
    {
      "cell_type": "code",
      "metadata": {
        "id": "NNs0CCsolI_u"
      },
      "source": [
        "list_append(heights,190)"
      ],
      "execution_count": null,
      "outputs": []
    },
    {
      "cell_type": "code",
      "metadata": {
        "id": "-KJKUCLH4MJx"
      },
      "source": [
        "print(heights)"
      ],
      "execution_count": null,
      "outputs": []
    },
    {
      "cell_type": "code",
      "metadata": {
        "id": "rw8GanMmlI_3"
      },
      "source": [
        "list_append(heights, elem = 40)"
      ],
      "execution_count": null,
      "outputs": []
    },
    {
      "cell_type": "code",
      "metadata": {
        "id": "8Gec4wsF4yzz"
      },
      "source": [
        "print(heights)"
      ],
      "execution_count": null,
      "outputs": []
    },
    {
      "cell_type": "code",
      "metadata": {
        "id": "kOo-JHdK41Yy"
      },
      "source": [
        "heights.append(60)"
      ],
      "execution_count": null,
      "outputs": []
    },
    {
      "cell_type": "code",
      "metadata": {
        "id": "opiniKlP48dn"
      },
      "source": [
        "print(heights)"
      ],
      "execution_count": null,
      "outputs": []
    },
    {
      "cell_type": "code",
      "metadata": {
        "id": "q_Sglyrn5q5P"
      },
      "source": [],
      "execution_count": null,
      "outputs": []
    },
    {
      "cell_type": "markdown",
      "metadata": {
        "id": "NWPhYNATjbA5"
      },
      "source": [
        "## Let us find out what are the differences between functions and methods\n",
        "\n",
        "* Function and method both look similar as they perform in an almost similar way, but the key difference is the concept of ‘Class and its Object’. Functions can be called only by its name, as it is defined independently. But methods cannot be called by its name only we need to invoke the class by reference of that class in which it is defined, that is, the method is defined within a class and hence they are dependent on that class.\n",
        "\n",
        "* A method is called by its name but it is associated with an object (dependent). It is implicitly passed to an object on which it is invoked. It may or may not return any data. A method can operate the data (instance variables) that is contained by the corresponding class."
      ]
    },
    {
      "cell_type": "markdown",
      "metadata": {
        "id": "BO25ViQ7lI36"
      },
      "source": [
        "# Methods\n",
        "\n",
        "We've already seen a few example of methods when learning about lists in Python. Methods are essentially functions built into objects.\n",
        "\n",
        "Methods perform specific actions on an object and can also take arguments, just like a function. \n",
        "\n",
        "Methods are of the form:\n",
        "\n",
        "    object.method(arg1,arg2,etc...)"
      ]
    },
    {
      "cell_type": "code",
      "metadata": {
        "id": "BUbbf50vlJAH"
      },
      "source": [
        "def insert_value_to_list(list_obj, index_to_place, value_to_place):\n",
        "  '''\n",
        "  This function inserts an element to a list at a specified index\n",
        "  '''\n",
        "\n",
        "  # Step 1 : Get the first part  \n",
        "  first_part = list_obj[0:index_to_place]\n",
        "\n",
        "  # Step 2 : Append the element at the end of the first part\n",
        "  first_part.append(value_to_place)\n",
        "\n",
        "  # Step 3 : Get the last part\n",
        "  last_part = list_obj[index_to_place:]\n",
        "\n",
        "  # Step 4 : Use the extend method to add the last part to the first part\n",
        "  first_part.extend(last_part)\n",
        "  \n",
        "  # Step 5 : Return the first part\n",
        "  return first_part"
      ],
      "execution_count": null,
      "outputs": []
    },
    {
      "cell_type": "code",
      "metadata": {
        "id": "f6o1mUMZlJAP"
      },
      "source": [
        "new_heights = insert_value_to_list(heights, 2, 180)"
      ],
      "execution_count": null,
      "outputs": []
    },
    {
      "cell_type": "code",
      "metadata": {
        "id": "O5idpTBHlJAT"
      },
      "source": [
        "new_heights"
      ],
      "execution_count": null,
      "outputs": []
    },
    {
      "cell_type": "code",
      "metadata": {
        "id": "x_X_4K8glJAX"
      },
      "source": [
        "heights.insert(2,180)"
      ],
      "execution_count": null,
      "outputs": []
    },
    {
      "cell_type": "code",
      "metadata": {
        "id": "HqgPIkotlJAa"
      },
      "source": [
        "heights"
      ],
      "execution_count": null,
      "outputs": []
    },
    {
      "cell_type": "markdown",
      "metadata": {
        "id": "evEjAvNelJAi"
      },
      "source": [
        "# Scope \n",
        "\n",
        "Now that we have gone over writing our own functions, it's important to understand how Python deals with the variable names you assign. When you create a variable name in Python the name is stored in a *name-space*. Variable names also have a *scope*, the scope determines the visibility of that variable name to other parts of your code.\n",
        "\n",
        "Let's start with a quick thought experiment; imagine the following code:"
      ]
    },
    {
      "cell_type": "code",
      "metadata": {
        "id": "x7pubsHulJAj"
      },
      "source": [
        "def experiment():\n",
        "  global x\n",
        "  x = 50\n",
        " \n",
        "  return x"
      ],
      "execution_count": null,
      "outputs": []
    },
    {
      "cell_type": "code",
      "metadata": {
        "id": "LFYhyhRtlJAr"
      },
      "source": [
        "x = 25"
      ],
      "execution_count": null,
      "outputs": []
    },
    {
      "cell_type": "markdown",
      "metadata": {
        "id": "H6ZOPIBWlJAv"
      },
      "source": [
        "What do you imagine the output of <code>experiment()</code> is? 25 or 50? What is the output of print <code>x</code>? 25 or 50?"
      ]
    },
    {
      "cell_type": "code",
      "metadata": {
        "id": "D-_hLJ8FlJAx"
      },
      "source": [
        "experiment()"
      ],
      "execution_count": null,
      "outputs": []
    },
    {
      "cell_type": "code",
      "metadata": {
        "id": "ZMVobTO5lJA5"
      },
      "source": [
        "experiment()"
      ],
      "execution_count": null,
      "outputs": []
    },
    {
      "cell_type": "code",
      "metadata": {
        "id": "rPI61vyrlJA-"
      },
      "source": [
        "x"
      ],
      "execution_count": null,
      "outputs": []
    },
    {
      "cell_type": "markdown",
      "metadata": {
        "id": "Re4HtKjglJBG"
      },
      "source": [
        "How do we make this function take the global variable <code>x</code> and change it?"
      ]
    },
    {
      "cell_type": "code",
      "metadata": {
        "id": "X-Ag1dMblJBI"
      },
      "source": [
        "def new_experiment():\n",
        "    \n",
        "  x = 50\n",
        "\n",
        "  return x"
      ],
      "execution_count": null,
      "outputs": []
    },
    {
      "cell_type": "code",
      "metadata": {
        "id": "3tk3f0EmlJBb"
      },
      "source": [
        "x = 40"
      ],
      "execution_count": null,
      "outputs": []
    },
    {
      "cell_type": "code",
      "metadata": {
        "id": "PwWs94zS8DNQ"
      },
      "source": [
        "x"
      ],
      "execution_count": null,
      "outputs": []
    },
    {
      "cell_type": "code",
      "metadata": {
        "id": "ezV_6FpZlJBU"
      },
      "source": [
        "new_experiment()"
      ],
      "execution_count": null,
      "outputs": []
    },
    {
      "cell_type": "code",
      "metadata": {
        "id": "YFg8BO4g8Fu3"
      },
      "source": [],
      "execution_count": null,
      "outputs": []
    }
  ]
}